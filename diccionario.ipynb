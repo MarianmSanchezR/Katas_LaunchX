{
 "cells": [
  {
   "cell_type": "code",
   "execution_count": 11,
   "metadata": {},
   "outputs": [
    {
     "name": "stdout",
     "output_type": "stream",
     "text": [
      "Mars 2\n",
      "Mars  tiene una circunferencia polar de:   {'polar': 6752, 'Equatorial': 6792}\n"
     ]
    }
   ],
   "source": [
    "#Creación\n",
    "planet = {\n",
    "    \"Name\": \"Mars\",\n",
    "    \"Moons\":  2\n",
    "}\n",
    "\n",
    "#Mostrar datos\n",
    "print(planet.get(\"Name\"), planet.get(\"Moons\"))\n",
    "\n",
    "#Circunferencia\n",
    "planet[\"Circunferencia (km)\"] = {\n",
    "    \"polar\": 6752,\n",
    "    \"Equatorial\": 6792\n",
    "}\n",
    "\n",
    "#Impresión\n",
    "print(planet.get(\"Name\"), \" tiene una circunferencia polar de:  \", (planet[\"Circunferencia (km)\"]))"
   ]
  },
  {
   "cell_type": "code",
   "execution_count": 16,
   "metadata": {},
   "outputs": [
    {
     "name": "stdout",
     "output_type": "stream",
     "text": [
      "Promedio de lunas que tiene un planeta:  17.833333333333332\n"
     ]
    }
   ],
   "source": [
    "planet_moons = {\n",
    "    'mercury': 0,\n",
    "    'venus': 0,\n",
    "    'earth': 1,\n",
    "    'mars': 2,\n",
    "    'jupiter': 79,\n",
    "    'saturn': 82,\n",
    "    'uranus': 27,\n",
    "    'neptune': 14,\n",
    "    'pluto': 5,\n",
    "    'haumea': 2,\n",
    "    'makemake': 1,\n",
    "    'eris': 1\n",
    "}\n",
    "\n",
    "moons = planet_moons.values()\n",
    "planetas = len(planet_moons.keys())\n",
    "total = 0\n",
    "\n",
    "for moon in moons:\n",
    "        total = total + moon\n",
    "\n",
    "promedio = total / planetas\n",
    "print(\"Promedio de lunas que tiene un planeta: \", promedio)"
   ]
  }
 ],
 "metadata": {
  "interpreter": {
   "hash": "e8c954cfe51fa3e1a8f5fd5b5b324eceb9eb77e7654e2be7d7bc294cd32a0965"
  },
  "kernelspec": {
   "display_name": "Python 3.10.2 64-bit",
   "language": "python",
   "name": "python3"
  },
  "language_info": {
   "codemirror_mode": {
    "name": "ipython",
    "version": 3
   },
   "file_extension": ".py",
   "mimetype": "text/x-python",
   "name": "python",
   "nbconvert_exporter": "python",
   "pygments_lexer": "ipython3",
   "version": "3.10.2"
  },
  "orig_nbformat": 4
 },
 "nbformat": 4,
 "nbformat_minor": 2
}
