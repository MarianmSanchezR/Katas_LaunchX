{
 "cells": [
  {
   "cell_type": "code",
   "execution_count": 11,
   "metadata": {},
   "outputs": [
    {
     "name": "stdout",
     "output_type": "stream",
     "text": [
      "Reporte:\n",
      "    Total Average: 78.33333333333333%\n",
      "    Main tank: 80%\n",
      "    External tank: 70%\n",
      "    Hydrogen tank: 85% \n",
      "    \n",
      "Reporte:\n",
      "    Total Average: 78.0%\n",
      "    Main tank: 88%\n",
      "    External tank: 76%\n",
      "    Hydrogen tank: 70% \n",
      "    \n"
     ]
    }
   ],
   "source": [
    "def combustibles (tanque1, tanque2, tanque3):\n",
    "    promedio = (tanque1 + tanque2 + tanque3) / 3\n",
    "    return f\"\"\"Reporte:\n",
    "    Total Average: {promedio}%\n",
    "    Main tank: {tanque1}%\n",
    "    External tank: {tanque2}%\n",
    "    Hydrogen tank: {tanque3}% \n",
    "    \"\"\"\n",
    "print(combustibles(80, 70, 85))\n",
    "def average(values):\n",
    "    total = sum(values)\n",
    "    number_of_items = len(values)\n",
    "    return total / number_of_items\n",
    "average([80, 85, 81]) \n",
    "def combustibles(tanque1, tanque2, tanque3):\n",
    "    return f\"\"\"Reporte:\n",
    "    Total Average: {average([tanque1, tanque2, tanque3])}%\n",
    "    Main tank: {tanque1}%\n",
    "    External tank: {tanque2}%\n",
    "    Hydrogen tank: {tanque3}% \n",
    "    \"\"\"\n",
    "print(combustibles(88, 76, 70))"
   ]
  },
  {
   "cell_type": "code",
   "execution_count": 8,
   "metadata": {},
   "outputs": [
    {
     "name": "stdout",
     "output_type": "stream",
     "text": [
      "\n",
      "    Misión a la Luna\n",
      "    Tiempo total de viaje: 65 minutos\n",
      "    Combustible total restante: 500000 galones\n",
      "    \n",
      "\n",
      "    Misión a la Luna\n",
      "    Tiempo total de viaje: 76 minutos\n",
      "    Combustible total restante: 500000 galones\n",
      "    \n",
      "\n",
      "    Misión a la Luna\n",
      "    Tiempo total de viaje: 74 minutes\n",
      "    Combustible total restante: 500000\n",
      "    main tanque --> 300000 quedan galones\n",
      "\n"
     ]
    }
   ],
   "source": [
    "def mision(prelanzamiento, tiempo_vuelo, destino, tanque_externo, tanque_interno):\n",
    "    return f\"\"\"\n",
    "    Misión a {destino}\n",
    "    Tiempo total de viaje: {prelanzamiento + tiempo_vuelo} minutos\n",
    "    Combustible total restante: {tanque_externo + tanque_interno} galones\n",
    "    \"\"\"\n",
    "print (mision(14, 51, \"la Luna\", 200000, 300000)) \n",
    "\n",
    "def mision(destino, *minutos, **deposito_combustible):\n",
    "    return f\"\"\"\n",
    "    Misión a {destino}\n",
    "    Tiempo total de viaje: {sum(minutos)} minutos\n",
    "    Combustible total restante: {sum(deposito_combustible.values())} galones\n",
    "    \"\"\"\n",
    "print(mision(\"la Luna\", 10, 15, 51, main=300000, external=200000))\n",
    "\n",
    "def mision(destino, *minutos, **deposito_combustible):\n",
    "    reporte = f\"\"\"\n",
    "    Misión a {destino}\n",
    "    Tiempo total de viaje: {sum(minutos)} minutes\n",
    "    Combustible total restante: {sum(deposito_combustible.values())}\n",
    "    \"\"\"\n",
    "    for nombre_tanque, galones in deposito_combustible.items():\n",
    "        reporte += f\"{nombre_tanque} tanque --> {galones} quedan galones\\n\"\n",
    "        return reporte\n",
    "\n",
    "print(mision(\"la Luna\", 8, 11, 55, main=300000, external=200000))\n",
    "\n"
   ]
  }
 ],
 "metadata": {
  "interpreter": {
   "hash": "e8c954cfe51fa3e1a8f5fd5b5b324eceb9eb77e7654e2be7d7bc294cd32a0965"
  },
  "kernelspec": {
   "display_name": "Python 3.10.2 64-bit",
   "language": "python",
   "name": "python3"
  },
  "language_info": {
   "codemirror_mode": {
    "name": "ipython",
    "version": 3
   },
   "file_extension": ".py",
   "mimetype": "text/x-python",
   "name": "python",
   "nbconvert_exporter": "python",
   "pygments_lexer": "ipython3",
   "version": "3.10.2"
  },
  "orig_nbformat": 4
 },
 "nbformat": 4,
 "nbformat_minor": 2
}
