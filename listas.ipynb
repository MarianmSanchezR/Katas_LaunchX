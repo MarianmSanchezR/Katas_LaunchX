{
 "cells": [
  {
   "cell_type": "code",
   "execution_count": 8,
   "metadata": {},
   "outputs": [
    {
     "name": "stdout",
     "output_type": "stream",
     "text": [
      "['Mercurio', 'Venus', 'Tierra', 'Marte', 'Jupiter', 'Saturno', 'Urano', 'Neptuno', 'Pluton']\n",
      "Número de planetas:  9  planetas.\n"
     ]
    }
   ],
   "source": [
    "#Ejercicio 1\n",
    "planetas = ['Mercurio', 'Venus', 'Tierra', 'Marte', 'Jupiter', 'Saturno', 'Urano', 'Neptuno']\n",
    "planetas.append('Pluton')\n",
    "print(planetas)\n",
    "\n",
    "\n",
    "num_planetas = len(planetas)\n",
    "print(\"Número de planetas: \", num_planetas , \" planetas.\")"
   ]
  },
  {
   "cell_type": "code",
   "execution_count": 10,
   "metadata": {},
   "outputs": [
    {
     "name": "stdout",
     "output_type": "stream",
     "text": [
      "Marte  es el planeta número  4  en la lista\n",
      "El planeta más cercano de  Marte\n",
      "['Mercurio', 'Venus', 'Tierra']\n",
      "El planeta más lejano de  Marte\n",
      "['Jupiter', 'Saturno', 'Urano', 'Neptuno']\n"
     ]
    }
   ],
   "source": [
    "#Ejercicio 2\n",
    "planetas = ['Mercurio', 'Venus', 'Tierra', 'Marte', 'Jupiter', 'Saturno', 'Urano', 'Neptuno']\n",
    "nom_planet = input(\"Digite el nombre del planeta, ingresando la primera letra en mayúscula\")\n",
    "busqueda = planetas.index(nom_planet)\n",
    "print ((nom_planet), \" es el planeta número \", busqueda + 1, \" en la lista\" )\n",
    "\n",
    "print(\"El planeta más cercano de \",nom_planet)\n",
    "print(planetas[0:busqueda])\n",
    "\n",
    "print(\"El planeta más lejano de \",nom_planet)\n",
    "print(planetas[busqueda + 1:])"
   ]
  }
 ],
 "metadata": {
  "interpreter": {
   "hash": "e8c954cfe51fa3e1a8f5fd5b5b324eceb9eb77e7654e2be7d7bc294cd32a0965"
  },
  "kernelspec": {
   "display_name": "Python 3.10.2 64-bit",
   "language": "python",
   "name": "python3"
  },
  "language_info": {
   "codemirror_mode": {
    "name": "ipython",
    "version": 3
   },
   "file_extension": ".py",
   "mimetype": "text/x-python",
   "name": "python",
   "nbconvert_exporter": "python",
   "pygments_lexer": "ipython3",
   "version": "3.10.2"
  },
  "orig_nbformat": 4
 },
 "nbformat": 4,
 "nbformat_minor": 2
}
