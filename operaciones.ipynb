{
 "cells": [
  {
   "cell_type": "code",
   "execution_count": 5,
   "metadata": {},
   "outputs": [
    {
     "name": "stdout",
     "output_type": "stream",
     "text": [
      "628949330 km\n",
      "390577533.93 millas\n"
     ]
    }
   ],
   "source": [
    "#Ejercicio 1\n",
    "\n",
    "#Primera operación: Distancia\n",
    "tierra =  149597870\n",
    "jupiter = 778547200\n",
    "\n",
    "distancia = int(jupiter) - int(tierra)\n",
    "print(str(distancia) + \" km\")\n",
    "\n",
    "\n",
    "#Segunda operación: Conversión a millas\n",
    "milla = 0.621\n",
    "conversion = distancia * milla\n",
    "print(str(conversion) + \" millas\")"
   ]
  },
  {
   "cell_type": "code",
   "execution_count": 7,
   "metadata": {},
   "outputs": [
    {
     "name": "stdout",
     "output_type": "stream",
     "text": [
      "628949330 km\n"
     ]
    }
   ],
   "source": [
    "#Ejercicio 2\n",
    "\n",
    "#Primera operación\n",
    "distancia1 = input (\"Digite en Km la distancia que existe entre el sol y el primer planteta\")\n",
    "distancia2 = input (\"Digite en Km la distancia que existe entre el sol y el segundo planeta\")\n",
    "\n",
    "distancia1 = int(distancia1)\n",
    "distancia2 = int(distancia2)\n",
    "resultado_dis = int(distancia1) - int(distancia2)\n",
    "resultado_dis = abs(resultado_dis)\n",
    "print(str(resultado_dis) + \" km\")\n"
   ]
  }
 ],
 "metadata": {
  "interpreter": {
   "hash": "e8c954cfe51fa3e1a8f5fd5b5b324eceb9eb77e7654e2be7d7bc294cd32a0965"
  },
  "kernelspec": {
   "display_name": "Python 3.10.2 64-bit",
   "language": "python",
   "name": "python3"
  },
  "language_info": {
   "codemirror_mode": {
    "name": "ipython",
    "version": 3
   },
   "file_extension": ".py",
   "mimetype": "text/x-python",
   "name": "python",
   "nbconvert_exporter": "python",
   "pygments_lexer": "ipython3",
   "version": "3.10.2"
  },
  "orig_nbformat": 4
 },
 "nbformat": 4,
 "nbformat_minor": 2
}
